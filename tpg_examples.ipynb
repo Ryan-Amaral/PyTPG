{
 "cells": [
  {
   "cell_type": "markdown",
   "metadata": {},
   "source": [
    "# TPG Examples\n",
    "This document shows how to use the PyTPG API. We make use of OpenAI Gym to run examples, and we assume you already have PyTPG installed, see the readme for installation instructions for PyTPG."
   ]
  },
  {
   "cell_type": "markdown",
   "metadata": {},
   "source": [
    "## General Setup"
   ]
  },
  {
   "cell_type": "code",
   "execution_count": 1,
   "metadata": {},
   "outputs": [],
   "source": [
    "from __future__ import division\n",
    "from IPython.display import clear_output\n",
    "import numpy as np\n",
    "import gym\n",
    "import matplotlib.pyplot as plt\n",
    "from IPython import display\n",
    "import random\n",
    "\n",
    "# how to render in Jupyter: \n",
    "# https://stackoverflow.com/questions/40195740/how-to-run-openai-gym-render-over-a-server\n",
    "# https://www.youtube.com/watch?v=O84KgRt6AJI\n",
    "def show_state(env, step=0, name='', info=''):\n",
    "    plt.figure(3)\n",
    "    plt.clf()\n",
    "    plt.imshow(env.render(mode='rgb_array'))\n",
    "    plt.title(\"%s | Step: %d %s\" % (name, step, info))\n",
    "    plt.axis('off')\n",
    "\n",
    "    display.clear_output(wait=True)\n",
    "    display.display(plt.gcf())\n",
    "    \n",
    "# To transform pixel matrix to a single vector.\n",
    "def getState(inState):\n",
    "    # each row is all 1 color\n",
    "    rgbRows = np.reshape(inState,(len(inState[0])*len(inState), 3)).T\n",
    "\n",
    "    # add each with appropriate shifting\n",
    "    # get RRRRRRRR GGGGGGGG BBBBBBBB\n",
    "    return np.add(np.left_shift(rgbRows[0], 16),\n",
    "        np.add(np.left_shift(rgbRows[1], 8), rgbRows[2]))"
   ]
  },
  {
   "cell_type": "code",
   "execution_count": 2,
   "metadata": {
    "scrolled": true
   },
   "outputs": [],
   "source": [
    "env = gym.make('Assault-v0') # make the environment"
   ]
  },
  {
   "cell_type": "code",
   "execution_count": 3,
   "metadata": {},
   "outputs": [
    {
     "name": "stdout",
     "output_type": "stream",
     "text": [
      "Discrete(7)\n"
     ]
    }
   ],
   "source": [
    "print(env.action_space) # learn size of action space"
   ]
  },
  {
   "cell_type": "code",
   "execution_count": 4,
   "metadata": {},
   "outputs": [],
   "source": [
    "# import to do training\n",
    "from tpg.trainer import Trainer\n",
    "# import to run an agent (always needed)\n",
    "from tpg.agent import Agent"
   ]
  },
  {
   "cell_type": "markdown",
   "metadata": {},
   "source": [
    "## Example: Basic Generational Selection (with graphics)"
   ]
  },
  {
   "cell_type": "code",
   "execution_count": 5,
   "metadata": {
    "scrolled": false
   },
   "outputs": [
    {
     "data": {
      "image/png": "[encoded data removed]",
      "text/plain": [
       "<Figure size 432x288 with 1 Axes>"
      ]
     },
     "metadata": {},
     "output_type": "display_data"
    },
    {
     "name": "stdout",
     "output_type": "stream",
     "text": [
      "Time Taken (Hours): 0.5528749724229177\n",
      "Results:\n",
      "Min, Max, Avg\n",
      "0.0 273.0 26.25\n",
      "0.0 273.0 22.0\n",
      "0.0 231.0 30.45\n",
      "0.0 273.0 50.4\n",
      "0.0 294.0 131.25\n"
     ]
    },
    {
     "data": {
      "image/png": "[encoded data removed]",
      "text/plain": [
       "<Figure size 432x288 with 1 Axes>"
      ]
     },
     "metadata": {
      "needs_background": "light"
     },
     "output_type": "display_data"
    }
   ],
   "source": [
    "%matplotlib inline\n",
    "import time # for tracking time\n",
    "\n",
    "tStart = time.time()\n",
    "\n",
    "# first create an instance of the TpgTrainer\n",
    "# this creates the whole population and everything\n",
    "# teamPopSize should realistically be at-least 100\n",
    "trainer = Trainer(actions=range(7), teamPopSize=20) \n",
    "\n",
    "curScores = [] # hold scores in a generation\n",
    "summaryScores = [] # record score summaries for each gen (min, max, avg)\n",
    "\n",
    "# 5 generations isn't much (not even close), but some improvements\n",
    "# should be seen.\n",
    "for gen in range(5): # generation loop\n",
    "    curScores = [] # new list per gen\n",
    "    \n",
    "    agents = trainer.getAgents()\n",
    "    \n",
    "    while True: # loop to go through agents\n",
    "        teamNum = len(agents)\n",
    "        agent = agents.pop()\n",
    "        if agent is None:\n",
    "            break # no more agents, so proceed to next gen\n",
    "        \n",
    "        state = env.reset() # get initial state and prep environment\n",
    "        score = 0\n",
    "        for i in range(500): # run episodes that last 500 frames\n",
    "            show_state(env, i, 'Assault', 'Gen #' + str(gen) + \n",
    "                       ', Team #' + str(teamNum) +\n",
    "                       ', Score: ' + str(score)) # render env\n",
    "            \n",
    "            # get action from agent\n",
    "            # must transform to at-least int-32 (for my getState to bitshift correctly)\n",
    "            act = agent.act(getState(np.array(state, dtype=np.int32))) \n",
    "\n",
    "            # feedback from env\n",
    "            state, reward, isDone, debug = env.step(act)\n",
    "            score += reward # accumulate reward in score\n",
    "            if isDone:\n",
    "                break # end early if losing state\n",
    "\n",
    "        agent.reward(score) # must reward agent (if didn't already score)\n",
    "            \n",
    "        curScores.append(score) # store score\n",
    "        \n",
    "        if len(agents) == 0:\n",
    "            break\n",
    "            \n",
    "    # at end of generation, make summary of scores\n",
    "    summaryScores.append((min(curScores), max(curScores),\n",
    "                    sum(curScores)/len(curScores))) # min, max, avg\n",
    "    trainer.evolve()\n",
    "    \n",
    "#clear_output(wait=True)\n",
    "print('Time Taken (Hours): ' + str((time.time() - tStart)/3600))\n",
    "print('Results:\\nMin, Max, Avg')\n",
    "for result in summaryScores:\n",
    "    print(result[0],result[1],result[2])"
   ]
  },
  {
   "cell_type": "markdown",
   "metadata": {},
   "source": [
    "## Example: Generational Selection with Multiprocessing (no graphics)"
   ]
  },
  {
   "cell_type": "markdown",
   "metadata": {},
   "source": [
    "This example is just to show a different way to run the API, a far superior way. It uses a different method to get the agents, doesn't use graphics (but can), and uses multiprocessing."
   ]
  },
  {
   "cell_type": "code",
   "execution_count": 6,
   "metadata": {},
   "outputs": [],
   "source": [
    "\"\"\"\n",
    "Run each agent in this method for parallization.\n",
    "Args:\n",
    "    args: (TpgAgent, envName, scoreList, numEpisodes, numFrames)\n",
    "\"\"\"\n",
    "def runAgent(args):\n",
    "    agent = args[0]\n",
    "    envName = args[1]\n",
    "    scoreList = args[2]\n",
    "    numEpisodes = args[3] # number of times to repeat game\n",
    "    numFrames = args[4] \n",
    "    \n",
    "    # skip if task already done by agent\n",
    "    if agent.taskDone(envName):\n",
    "        print('Agent #' + str(agent.agentNum) + ' can skip.')\n",
    "        scoreList.append((agent.team.id, agent.team.outcomes))\n",
    "        return\n",
    "    \n",
    "    env = gym.make(envName)\n",
    "    valActs = range(env.action_space.n) # valid actions, some envs are less\n",
    "    \n",
    "    scoreTotal = 0 # score accumulates over all episodes\n",
    "    for ep in range(numEpisodes): # episode loop\n",
    "        state = env.reset()\n",
    "        scoreEp = 0\n",
    "        numRandFrames = 0\n",
    "        if numEpisodes > 1:\n",
    "            numRandFrames = random.randint(0,30)\n",
    "        for i in range(numFrames): # frame loop\n",
    "            if i < numRandFrames:\n",
    "                env.step(env.action_space.sample())\n",
    "                continue\n",
    "\n",
    "            act = agent.act(getState(np.array(state, dtype=np.int32)))\n",
    "\n",
    "            # feedback from env\n",
    "            state, reward, isDone, debug = env.step(act)\n",
    "            scoreEp += reward # accumulate reward in score\n",
    "            if isDone:\n",
    "                break # end early if losing state\n",
    "                \n",
    "        print('Agent #' + str(agent.agentNum) + \n",
    "              ' | Ep #' + str(ep) + ' | Score: ' + str(scoreEp))\n",
    "        scoreTotal += scoreEp\n",
    "       \n",
    "    scoreTotal /= numEpisodes\n",
    "    env.close()\n",
    "    agent.reward(scoreTotal, envName)\n",
    "    scoreList.append((agent.team.id, agent.team.outcomes))"
   ]
  },
  {
   "cell_type": "code",
   "execution_count": 7,
   "metadata": {
    "scrolled": true
   },
   "outputs": [
    {
     "name": "stdout",
     "output_type": "stream",
     "text": [
      "Time Taken (Hours): 0.6682543623447418\n",
      "Results:\n",
      "Min, Max, Avg\n",
      "-100.0 2.0 -47.45\n",
      "-100.0 6.0 -35.53611111111111\n",
      "-100.0 6.0 -31.63888888888889\n",
      "-100.0 6.0 -28.647222222222222\n",
      "-100.0 6.0 -28.208333333333332\n",
      "-100.0 6.0 -26.36111111111111\n",
      "-100.0 14.0 -24.522222222222222\n",
      "-100.0 14.0 -21.580555555555556\n",
      "-100.0 14.0 -21.383333333333333\n",
      "-100.0 30.0 -17.294444444444444\n",
      "-100.0 30.0 -17.705555555555556\n",
      "-100.0 30.0 -14.257617728531857\n",
      "-100.0 33.0 -12.18836565096953\n",
      "-100.0 33.0 -15.669444444444444\n",
      "-100.0 33.0 -13.061111111111112\n",
      "-100.0 33.0 -13.466666666666667\n",
      "-100.0 33.0 -11.46111111111111\n",
      "-100.0 33.0 -15.505555555555556\n",
      "-100.0 33.0 -11.063888888888888\n",
      "-100.0 33.0 -11.941666666666666\n",
      "-100.0 33.0 -10.272222222222222\n",
      "-100.0 33.0 -9.730555555555556\n",
      "-100.0 33.0 -10.994459833795014\n",
      "-100.0 33.0 -8.329639889196676\n",
      "-100.0 33.0 -9.218836565096954\n",
      "-100.0 33.0 -10.191135734072022\n",
      "-100.0 33.0 -6.423822714681441\n",
      "-100.0 37.0 -11.9196675900277\n",
      "-100.0 37.0 -9.066481994459833\n",
      "-100.0 37.0 -8.366666666666667\n",
      "-100.0 37.0 -9.394444444444444\n",
      "-100.0 37.0 -6.913888888888889\n",
      "-100.0 37.0 -9.333333333333334\n",
      "-100.0 37.0 -5.030555555555556\n",
      "-100.0 37.0 -8.759002770083102\n",
      "-100.0 37.0 -7.997222222222222\n",
      "-100.0 37.0 -6.275\n",
      "-100.0 37.0 -6.902777777777778\n",
      "-100.0 37.0 -11.38888888888889\n",
      "-100.0 37.0 -4.730555555555555\n",
      "-100.0 43.0 -4.8448753462603875\n",
      "-100.0 43.0 -7.119113573407202\n",
      "-100.0 43.0 -5.0777777777777775\n",
      "-100.0 43.0 -5.2555555555555555\n",
      "-100.0 45.0 -11.594444444444445\n",
      "-100.0 45.0 -4.905555555555556\n",
      "-100.0 45.0 -7.513888888888889\n",
      "-100.0 45.0 -11.622222222222222\n",
      "-100.0 45.0 -1.8\n",
      "-100.0 45.0 -5.822222222222222\n",
      "-100.0 45.0 -3.852777777777778\n",
      "-100.0 45.0 -6.8310249307479225\n",
      "-100.0 45.0 -7.388888888888889\n",
      "-100.0 45.0 -1.875\n",
      "-100.0 45.0 -4.3694444444444445\n",
      "-100.0 45.0 -7.25\n",
      "-100.0 45.0 -3.1333333333333333\n",
      "-100.0 45.0 -8.20775623268698\n",
      "-100.0 45.0 0.058333333333333334\n",
      "-100.0 45.0 -5.655555555555556\n",
      "-100.0 45.0 -1.4376731301939059\n",
      "-100.0 45.0 -1.8166666666666667\n",
      "-100.0 45.0 -5.725\n",
      "-100.0 45.0 -4.950138504155125\n",
      "-100.0 45.0 -3.316666666666667\n",
      "-100.0 45.0 -5.166666666666667\n",
      "-100.0 45.0 -5.772222222222222\n",
      "-100.0 45.0 -1.6277777777777778\n",
      "-100.0 45.0 -4.1551246537396125\n",
      "-100.0 45.0 -6.052777777777778\n",
      "-100.0 45.0 -1.0833333333333333\n",
      "-100.0 45.0 1.8833333333333333\n",
      "-100.0 45.0 -7.427777777777778\n",
      "-100.0 45.0 -5.441666666666666\n",
      "-100.0 45.0 -7.833333333333333\n",
      "-100.0 45.0 -2.9002770083102494\n",
      "-100.0 45.0 -2.7055555555555557\n",
      "-100.0 45.0 1.3822714681440442\n",
      "-100.0 45.0 -2.3102493074792245\n",
      "-100.0 53.0 -2.1662049861495847\n",
      "-100.0 53.0 -0.8614958448753463\n",
      "-100.0 53.0 -4.366666666666666\n",
      "-100.0 53.0 -7.602777777777778\n",
      "-100.0 53.0 3.4055555555555554\n",
      "-100.0 53.0 -6.336111111111111\n",
      "-100.0 53.0 -3.027700831024931\n",
      "-100.0 53.0 -0.8836565096952909\n",
      "-100.0 53.0 -2.011111111111111\n",
      "-100.0 53.0 -1.5833333333333333\n",
      "-100.0 53.0 -3.4444444444444446\n",
      "-100.0 53.0 -4.308333333333334\n",
      "-100.0 53.0 -2.1166666666666667\n",
      "-100.0 53.0 -1.2416666666666667\n",
      "-100.0 53.0 -0.5472222222222223\n",
      "-100.0 53.0 -2.1333333333333333\n",
      "-100.0 53.0 -1.5416666666666667\n",
      "-100.0 53.0 -1.0387811634349031\n",
      "-100.0 53.0 -3.8944444444444444\n",
      "-100.0 53.0 -0.625\n",
      "-100.0 53.0 1.3490304709141274\n"
     ]
    }
   ],
   "source": [
    "import multiprocessing as mp\n",
    "import time\n",
    "\n",
    "tStart = time.time()\n",
    "\n",
    "envName = 'Boxing-v0'\n",
    "# get num actions\n",
    "env = gym.make(envName)\n",
    "acts = env.action_space.n\n",
    "del env\n",
    "\n",
    "trainer = Trainer(actions=range(acts), teamPopSize=360)\n",
    "\n",
    "processes = 23\n",
    "man = mp.Manager()\n",
    "pool = mp.Pool(processes=processes, maxtasksperchild=1)\n",
    "    \n",
    "allScores = [] # track all scores each generation\n",
    "\n",
    "for gen in range(100): # do 100 generations of training\n",
    "    scoreList = man.list()\n",
    "    \n",
    "    # get agents, noRef to not hold reference to trainer in each one\n",
    "    # don't need reference to trainer in multiprocessing\n",
    "    agents = trainer.getAgents() # swap out agents only at start of generation\n",
    "\n",
    "    # run the agents\n",
    "    pool.map(runAgent, \n",
    "        [(agent, envName, scoreList, 1, 18000)\n",
    "        for agent in agents])\n",
    "    \n",
    "    # apply scores, must do this when multiprocessing\n",
    "    # because agents can't refer to trainer\n",
    "    teams = trainer.applyScores(scoreList)\n",
    "    # important to remember to set tasks right, unless not using task names\n",
    "    # task name set in runAgent()\n",
    "    trainer.evolve(tasks=[envName]) # go into next gen\n",
    "    \n",
    "    # an easier way to track stats than the above example\n",
    "    scoreStats = trainer.fitnessStats\n",
    "    allScores.append((scoreStats['min'], scoreStats['max'], scoreStats['average']))\n",
    "    \n",
    "    clear_output()\n",
    "    print('Time Taken (Hours): ' + str((time.time() - tStart)/3600))\n",
    "    print('Gen: ' + str(gen))\n",
    "    print('Results so far: ' + str(allScores))\n",
    "    \n",
    "clear_output()\n",
    "print('Time Taken (Hours): ' + str((time.time() - tStart)/3600))\n",
    "print('Results:\\nMin, Max, Avg')\n",
    "for score in allScores:\n",
    "    print(score[0],score[1],score[2])"
   ]
  },
  {
   "cell_type": "code",
   "execution_count": null,
   "metadata": {},
   "outputs": [],
   "source": []
  }
 ],
 "metadata": {
  "kernelspec": {
   "display_name": "Python [conda env:oaigym]",
   "language": "python",
   "name": "conda-env-oaigym-py"
  },
  "language_info": {
   "codemirror_mode": {
    "name": "ipython",
    "version": 3
   },
   "file_extension": ".py",
   "mimetype": "text/x-python",
   "name": "python",
   "nbconvert_exporter": "python",
   "pygments_lexer": "ipython3",
   "version": "3.7.4"
  }
 },
 "nbformat": 4,
 "nbformat_minor": 2
}
